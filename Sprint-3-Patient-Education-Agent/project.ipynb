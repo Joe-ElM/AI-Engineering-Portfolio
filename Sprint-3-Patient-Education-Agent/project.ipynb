{
 "cells": [
  {
   "cell_type": "markdown",
   "id": "e3fc8446",
   "metadata": {},
   "source": [
    "# HealthBot - AI-Powered Patient Education Agent\n",
    "# Complete Implementation for Turing College Sprint 3\n",
    "\n",
    "## Overview\n",
    "This notebook demonstrates a complete AI health education agent built with:\n",
    "- LangGraph for workflow orchestration\n",
    "- OpenAI for LLM capabilities\n",
    "- Wikipedia & Tavily for research\n",
    "- Streamlit for user interface\n",
    "- Memory for conversation persistence"
   ]
  },
  {
   "cell_type": "code",
   "execution_count": 28,
   "id": "ab844751",
   "metadata": {},
   "outputs": [],
   "source": [
    "# !pip install streamlit langchain langchain-openai langchain-community langgraph tavily-python python-dotenv pydantic typing-extensions"
   ]
  },
  {
   "cell_type": "code",
   "execution_count": 29,
   "id": "d03542a9",
   "metadata": {},
   "outputs": [
    {
     "name": "stdout",
     "output_type": "stream",
     "text": [
      "Environment Setup Complete\n",
      "OpenAI API Key: Found\n",
      "Tavily API Key: Found\n"
     ]
    }
   ],
   "source": [
    "import os\n",
    "from dotenv import load_dotenv\n",
    "\n",
    "load_dotenv()\n",
    "print(\"Environment Setup Complete\")\n",
    "print(f\"OpenAI API Key: {'Found' if os.getenv('OPENAI_API_KEY') else 'Missing'}\")\n",
    "print(f\"Tavily API Key: {'Found' if os.getenv('TAVILY_API_KEY') else 'Missing'}\")"
   ]
  },
  {
   "cell_type": "code",
   "execution_count": 30,
   "id": "87a7ddc8",
   "metadata": {},
   "outputs": [
    {
     "name": "stdout",
     "output_type": "stream",
     "text": [
      "Data schemas defined successfully\n"
     ]
    }
   ],
   "source": [
    "# Cell 3: Define Data Schemas\n",
    "\"\"\"\n",
    "## Data Models & Schemas\n",
    "Define Pydantic models for type safety and data validation.\n",
    "These schemas ensure consistent data flow through our agent.\n",
    "\"\"\"\n",
    "\n",
    "from typing import List, Dict, Optional\n",
    "from typing_extensions import TypedDict\n",
    "from pydantic import BaseModel, Field\n",
    "\n",
    "class UserInput(BaseModel):\n",
    "    symptoms: str = Field(description=\"User's described symptoms\")\n",
    "    age: Optional[int] = Field(description=\"User's age\")\n",
    "    gender: Optional[str] = Field(description=\"User's gender\")\n",
    "\n",
    "class HealthAgentState(TypedDict):\n",
    "    user_input: UserInput\n",
    "    research_content: str\n",
    "    response: str\n",
    "    personality: str\n",
    "    conversation_history: List[str]\n",
    "    openai_settings: Dict[str, float]\n",
    "\n",
    "print(\"Data schemas defined successfully\")"
   ]
  },
  {
   "cell_type": "code",
   "execution_count": 31,
   "id": "dc485412",
   "metadata": {},
   "outputs": [
    {
     "name": "stdout",
     "output_type": "stream",
     "text": [
      "Configuration loaded successfully\n"
     ]
    }
   ],
   "source": [
    "# Cell 4: Configuration & Prompts\n",
    "\"\"\"\n",
    "## Configuration Settings\n",
    "Define agent personalities, prompts, and default settings.\n",
    "The medical disclaimer ensures legal compliance and user safety.\n",
    "\"\"\"\n",
    "\n",
    "OPENAI_API_KEY = os.getenv(\"OPENAI_API_KEY\")\n",
    "TAVILY_API_KEY = os.getenv(\"TAVILY_API_KEY\")\n",
    "\n",
    "# Medical disclaimer for legal compliance\n",
    "MEDICAL_DISCLAIMER = \"\"\"\n",
    "⚠️ **EDUCATIONAL PURPOSES ONLY - NOT MEDICAL ADVICE**\n",
    "This information is for educational purposes only. Always consult with a qualified healthcare professional for medical concerns. In case of emergency, contact emergency services immediately.\n",
    "\"\"\"\n",
    "\n",
    "# Agent personalities for different user preferences\n",
    "PERSONALITIES = {\n",
    "    \"friendly\": \"You are a warm, caring health educator providing friendly educational health information.\",\n",
    "    \"formal\": \"You are a professional medical educator providing precise, clinical educational information.\", \n",
    "    \"concise\": \"You are a direct health educator providing clear, concise educational health information.\"\n",
    "}\n",
    "\n",
    "# Main health analysis prompt with non-health query filtering\n",
    "HEALTH_PROMPT = \"\"\"You are a health education specialist providing concise educational information.\n",
    "\n",
    "User input: {symptoms}\n",
    "Additional info: Age: {age}, Gender: {gender}\n",
    "\n",
    "Determine if this is health-related by checking for:\n",
    "- Body parts (chest, head, stomach, etc.)\n",
    "- Symptoms (pain, fatigue, nausea, etc.) \n",
    "- Medical terms (vitamin, supplement, medication, etc.)\n",
    "- Follow-up questions about previous health topics\n",
    "\n",
    "If NOT health-related, respond ONLY with:\n",
    "\"I'm a health education assistant. Please ask about symptoms, medical concerns, supplements, or health-related topics.\"\n",
    "\n",
    "If IS health-related, provide brief educational information:\n",
    "1. Most likely causes (2-3 conditions max)\n",
    "2. When to seek care (urgent vs routine)\n",
    "3. Key supplements/recommendations (2-3 items)\n",
    "\n",
    "Keep response concise but complete. Include medical disclaimer.\n",
    "\n",
    "Research context:\n",
    "{research_content}\n",
    "\"\"\"\n",
    "\n",
    "# Default OpenAI settings for consistent responses\n",
    "DEFAULT_OPENAI_SETTINGS = {\n",
    "    \"temperature\": 0.3,\n",
    "    \"top_p\": 0.9,\n",
    "    \"max_tokens\": 1000\n",
    "}\n",
    "\n",
    "print(\"Configuration loaded successfully\")"
   ]
  },
  {
   "cell_type": "code",
   "execution_count": 32,
   "id": "263e26d8",
   "metadata": {},
   "outputs": [
    {
     "name": "stdout",
     "output_type": "stream",
     "text": [
      "Search tools implemented successfully\n"
     ]
    }
   ],
   "source": [
    "# Cell 5: Search Tools Implementation\n",
    "\"\"\"\n",
    "## Research Tools\n",
    "Implement Wikipedia and Tavily search functions for gathering medical information.\n",
    "These tools provide the knowledge base for our health education responses.\n",
    "\"\"\"\n",
    "\n",
    "from langchain_community.document_loaders import WikipediaLoader\n",
    "from pydantic import BaseModel, Field\n",
    "\n",
    "# Handle Tavily import gracefully\n",
    "try:\n",
    "    from langchain_community.tools.tavily_search import TavilySearchResults\n",
    "except ImportError:\n",
    "    TavilySearchResults = None\n",
    "\n",
    "class SearchQuery(BaseModel):\n",
    "    search_query: str = Field(description=\"Search query for retrieval\")\n",
    "\n",
    "def search_wikipedia(symptoms: str, max_docs: int = 2) -> str:\n",
    "    \"\"\"Search Wikipedia for medical information about symptoms\"\"\"\n",
    "    try:\n",
    "        search_query = f\"{symptoms} medical symptoms causes treatment\"\n",
    "        loader = WikipediaLoader(query=search_query, load_max_docs=max_docs)\n",
    "        docs = loader.load()\n",
    "        \n",
    "        formatted_docs = \"\\n\\n---\\n\\n\".join([\n",
    "            f'<Document source=\"{doc.metadata[\"source\"]}\" page=\"{doc.metadata.get(\"page\", \"\")}\"/>\\n{doc.page_content}\\n</Document>'\n",
    "            for doc in docs\n",
    "        ])\n",
    "        \n",
    "        return formatted_docs\n",
    "        \n",
    "    except Exception as e:\n",
    "        return f\"Error searching Wikipedia: {str(e)}\"\n",
    "\n",
    "def search_tavily(symptoms: str, max_results: int = 3) -> str:\n",
    "    \"\"\"Search web using Tavily for current medical information\"\"\"\n",
    "    try:\n",
    "        if not TavilySearchResults:\n",
    "            return \"Tavily search not available\"\n",
    "            \n",
    "        tavily_search = TavilySearchResults(\n",
    "            max_results=max_results,\n",
    "            api_key=TAVILY_API_KEY\n",
    "        )\n",
    "        \n",
    "        search_query = f\"{symptoms} symptoms medical information causes treatment\"\n",
    "        search_docs = tavily_search.invoke(search_query)\n",
    "        \n",
    "        formatted_docs = \"\\n\\n---\\n\\n\".join([\n",
    "            f'<Document href=\"{doc[\"url\"]}\"/>\\n{doc[\"content\"]}\\n</Document>'\n",
    "            for doc in search_docs\n",
    "        ])\n",
    "        \n",
    "        return formatted_docs\n",
    "        \n",
    "    except Exception as e:\n",
    "        return f\"Error searching Tavily: {str(e)}\"\n",
    "\n",
    "def combine_search_results(wikipedia_results: str, tavily_results: str) -> str:\n",
    "    \"\"\"Combine and format search results from multiple sources\"\"\"\n",
    "    combined = []\n",
    "    \n",
    "    if wikipedia_results and \"Error\" not in wikipedia_results:\n",
    "        combined.append(\"## Wikipedia Sources:\\n\" + wikipedia_results)\n",
    "    \n",
    "    if tavily_results and \"Error\" not in tavily_results:\n",
    "        combined.append(\"## Web Sources:\\n\" + tavily_results)\n",
    "    \n",
    "    if not combined:\n",
    "        return \"No reliable medical information found. Please consult a healthcare professional.\"\n",
    "    \n",
    "    return \"\\n\\n\".join(combined)\n",
    "\n",
    "print(\"Search tools implemented successfully\")\n"
   ]
  },
  {
   "cell_type": "code",
   "execution_count": 33,
   "id": "0b97fe80",
   "metadata": {},
   "outputs": [
    {
     "name": "stdout",
     "output_type": "stream",
     "text": [
      "HealthBot agent implemented successfully\n"
     ]
    }
   ],
   "source": [
    "# Cell 6: Main Health Agent\n",
    "\"\"\"\n",
    "## HealthBot Agent Implementation\n",
    "The core agent using LangGraph for workflow orchestration.\n",
    "This handles the complete flow: research → analysis → response with memory.\n",
    "\"\"\"\n",
    "\n",
    "from langgraph.graph import START, END, StateGraph\n",
    "from langgraph.checkpoint.memory import MemorySaver\n",
    "from langchain_openai import ChatOpenAI\n",
    "from langchain_core.messages import SystemMessage, HumanMessage\n",
    "\n",
    "class HealthAgent:\n",
    "    def __init__(self, openai_settings=None):\n",
    "        self.openai_settings = openai_settings or {}\n",
    "        self.llm = ChatOpenAI(\n",
    "            model=\"gpt-4o-mini\",\n",
    "            temperature=self.openai_settings.get(\"temperature\", 0.3),\n",
    "            top_p=self.openai_settings.get(\"top_p\", 0.9),\n",
    "            max_tokens=self.openai_settings.get(\"max_tokens\", 1000)\n",
    "        )\n",
    "        \n",
    "        self.memory = MemorySaver()\n",
    "        self.graph = self._build_graph()\n",
    "    \n",
    "    def _build_graph(self):\n",
    "        \"\"\"Build the LangGraph workflow\"\"\"\n",
    "        builder = StateGraph(HealthAgentState)\n",
    "        \n",
    "        builder.add_node(\"research_symptoms\", self._research_symptoms)\n",
    "        builder.add_node(\"generate_response\", self._generate_response)\n",
    "        \n",
    "        builder.add_edge(START, \"research_symptoms\")\n",
    "        builder.add_edge(\"research_symptoms\", \"generate_response\")\n",
    "        builder.add_edge(\"generate_response\", END)\n",
    "        \n",
    "        return builder.compile(checkpointer=self.memory)\n",
    "    \n",
    "    def _research_symptoms(self, state: HealthAgentState):\n",
    "        \"\"\"Research symptoms using Wikipedia and Tavily\"\"\"\n",
    "        user_input = state[\"user_input\"]\n",
    "        symptoms = user_input.symptoms\n",
    "        \n",
    "        wikipedia_results = search_wikipedia(symptoms)\n",
    "        tavily_results = search_tavily(symptoms)\n",
    "        research_content = combine_search_results(wikipedia_results, tavily_results)\n",
    "        \n",
    "        return {\"research_content\": research_content}\n",
    "    \n",
    "    def _generate_response(self, state: HealthAgentState):\n",
    "        \"\"\"Generate educational health response with conversation memory\"\"\"\n",
    "        user_input = state[\"user_input\"]\n",
    "        research_content = state[\"research_content\"]\n",
    "        personality = state.get(\"personality\", \"friendly\")\n",
    "        conversation_history = state.get(\"conversation_history\", [])\n",
    "        \n",
    "        system_prompt = PERSONALITIES[personality]\n",
    "        \n",
    "        # Add conversation context for memory\n",
    "        context = \"\"\n",
    "        if conversation_history:\n",
    "            context = f\"Previous conversation:\\n{chr(10).join(conversation_history[-6:])}\\n\\n\"\n",
    "        \n",
    "        health_prompt = HEALTH_PROMPT.format(\n",
    "            symptoms=user_input.symptoms,\n",
    "            age=user_input.age or \"Not specified\", \n",
    "            gender=user_input.gender or \"Not specified\",\n",
    "            research_content=research_content\n",
    "        )\n",
    "        \n",
    "        messages = [\n",
    "            SystemMessage(content=system_prompt),\n",
    "            HumanMessage(content=context + health_prompt)\n",
    "        ]\n",
    "        \n",
    "        response = self.llm.invoke(messages)\n",
    "        \n",
    "        # Update conversation history for memory\n",
    "        new_history = conversation_history + [\n",
    "            f\"User: {user_input.symptoms}\",\n",
    "            f\"Assistant: {response.content[:200]}...\"\n",
    "        ]\n",
    "        \n",
    "        return {\n",
    "            \"response\": response.content + \"\\n\\n\" + MEDICAL_DISCLAIMER,\n",
    "            \"conversation_history\": new_history\n",
    "        }\n",
    "    \n",
    "    def process_symptoms(self, user_input: UserInput, personality: str = \"friendly\", thread_id: str = \"default\"):\n",
    "        \"\"\"Main method to process user symptoms with memory\"\"\"\n",
    "        thread = {\"configurable\": {\"thread_id\": thread_id}}\n",
    "        \n",
    "        result = self.graph.invoke({\n",
    "            \"user_input\": user_input,\n",
    "            \"personality\": personality,\n",
    "            \"openai_settings\": self.openai_settings\n",
    "        }, thread)\n",
    "        \n",
    "        return result\n",
    "\n",
    "print(\"HealthBot agent implemented successfully\")\n"
   ]
  },
  {
   "cell_type": "code",
   "execution_count": 34,
   "id": "5bc6323f",
   "metadata": {},
   "outputs": [
    {
     "name": "stdout",
     "output_type": "stream",
     "text": [
      "🧪 Testing HealthBot with sample query...\n",
      "Test Results:\n",
      "==================================================\n",
      "Experiencing headaches and fatigue for three days can be health-related. Here’s some brief educational information:\n",
      "\n",
      "1. **Most Likely Causes**:\n",
      "   - **Tension-Type Headaches**: These are common and often linked to stress, fatigue, or dehydration.\n",
      "   - **Viral Infections**: Conditions like the flu or a cold can cause both headaches and fatigue.\n",
      "\n",
      "2. **When to Seek Care**:\n",
      "   - **Urgent Care**: Seek immediate medical attention if your headache is sudden and severe, or if you experience symptoms lik...\n",
      "==================================================\n",
      "Agent test completed successfully\n"
     ]
    }
   ],
   "source": [
    "# Cell 7: Test the Agent\n",
    "\"\"\"\n",
    "## Agent Testing\n",
    "Test the HealthBot with sample health queries to verify functionality.\n",
    "\"\"\"\n",
    "\n",
    "# Initialize the agent\n",
    "agent = HealthAgent()\n",
    "\n",
    "# Test with a sample health query\n",
    "test_input = UserInput(\n",
    "    symptoms=\"I have been experiencing headaches and fatigue for 3 days\",\n",
    "    age=25,\n",
    "    gender=\"female\"\n",
    ")\n",
    "\n",
    "print(\"Testing HealthBot with sample query...\")\n",
    "result = agent.process_symptoms(test_input, personality=\"friendly\")\n",
    "\n",
    "print(\"Test Results:\")\n",
    "print(\"=\" * 50)\n",
    "print(result[\"response\"][:500] + \"...\")\n",
    "print(\"=\" * 50)\n",
    "print(\"Agent test completed successfully\")"
   ]
  },
  {
   "cell_type": "code",
   "execution_count": 35,
   "id": "9500beef",
   "metadata": {},
   "outputs": [
    {
     "data": {
      "image/png": "[encoded data removed]",
      "text/plain": [
       "<IPython.core.display.Image object>"
      ]
     },
     "metadata": {},
     "output_type": "display_data"
    },
    {
     "name": "stdout",
     "output_type": "stream",
     "text": [
      "Workflow diagram generated successfully\n"
     ]
    }
   ],
   "source": [
    "# Cell 8: Workflow Visualization\n",
    "\"\"\"\n",
    "## LangGraph Workflow Diagram\n",
    "Generate and display the agent's workflow diagram using Mermaid.\n",
    "\"\"\"\n",
    "\n",
    "from IPython.display import Image, display\n",
    "\n",
    "try:\n",
    "    # Generate workflow diagram\n",
    "    workflow_image = agent.graph.get_graph().draw_mermaid_png()\n",
    "    display(Image(workflow_image))\n",
    "    print(\"Workflow diagram generated successfully\")\n",
    "except Exception as e:\n",
    "    print(f\"Could not generate diagram: {e}\")\n",
    "    print(\"Workflow: START → research_symptoms → generate_response → END\")"
   ]
  },
  {
   "cell_type": "markdown",
   "id": "db9e8082",
   "metadata": {},
   "source": [
    "## Interactive Testing & Demo\n",
    "Test the HealthBot with different scenarios to showcase functionality."
   ]
  },
  {
   "cell_type": "code",
   "execution_count": 36,
   "id": "8a5f2c5a",
   "metadata": {},
   "outputs": [
    {
     "name": "stdout",
     "output_type": "stream",
     "text": [
      "Test 1: Basic Symptoms\n",
      "Response: Experiencing headaches and fatigue for two days can be health-related. Here’s some brief educational information:\n",
      "\n",
      "1. **Most Likely Causes**:\n",
      "   - **Tension-Type Headaches**: Often caused by stress, fatigue, or dehydration, presenting as a band-like pressure around the head.\n",
      "   - **Viral Infections*...\n"
     ]
    }
   ],
   "source": [
    "# Test 1: Basic symptom analysis\n",
    "print(\"Test 1: Basic Symptoms\")\n",
    "test1 = UserInput(symptoms=\"headache and fatigue for 2 days\", age=30, gender=\"male\")\n",
    "result1 = agent.process_symptoms(test1, \"friendly\")\n",
    "print(\"Response:\", result1[\"response\"][:300] + \"...\")"
   ]
  },
  {
   "cell_type": "code",
   "execution_count": 37,
   "id": "a4b4d52a",
   "metadata": {},
   "outputs": [
    {
     "name": "stdout",
     "output_type": "stream",
     "text": [
      "Test 2: Supplement Query\n",
      "Response: Experiencing questions about vitamins for the immune system is health-related. Here’s some brief educational information:\n",
      "\n",
      "1. **Key Vitamins for Immune Support**:\n",
      "   - **Vitamin C**: Important for the growth and function of immune cells.\n",
      "   - **Vitamin D**: Plays a crucial role in immune response an...\n"
     ]
    }
   ],
   "source": [
    "# Test 2: Supplement question\n",
    "print(\"Test 2: Supplement Query\")\n",
    "test2 = UserInput(symptoms=\"what vitamins for immune system\", age=25, gender=\"female\")\n",
    "result2 = agent.process_symptoms(test2, \"concise\")\n",
    "print(\"Response:\", result2[\"response\"][:300] + \"...\")"
   ]
  },
  {
   "cell_type": "code",
   "execution_count": 38,
   "id": "293fe423",
   "metadata": {},
   "outputs": [
    {
     "name": "stdout",
     "output_type": "stream",
     "text": [
      "Test 3: Non-Health Query\n",
      "Response: I'm a health education assistant. Please ask about symptoms, medical concerns, supplements, or health-related topics.\n",
      "\n",
      "\n",
      "⚠️ **EDUCATIONAL PURPOSES ONLY - NOT MEDICAL ADVICE**\n",
      "This information is for educational purposes only. Always consult with a qualified healthcare professional for medical concerns. In case of emergency, contact emergency services immediately.\n",
      "\n"
     ]
    }
   ],
   "source": [
    "# Test 3: Non-health query (should redirect)\n",
    "print(\"Test 3: Non-Health Query\")\n",
    "test3 = UserInput(symptoms=\"weather today\", age=None, gender=None)\n",
    "result3 = agent.process_symptoms(test3, \"formal\")\n",
    "print(\"Response:\", result3[\"response\"])"
   ]
  },
  {
   "cell_type": "code",
   "execution_count": 39,
   "id": "70beb411",
   "metadata": {},
   "outputs": [
    {
     "name": "stdout",
     "output_type": "stream",
     "text": [
      "Test 4: Memory Test\n",
      "Response: If your symptoms of headache and fatigue are getting worse, here’s what you should consider:\n",
      "\n",
      "1. **Most Likely Causes**:\n",
      "   - **Viral Infections**: Common colds or flu can lead to increased fatigue and headaches.\n",
      "   - **Tension or Migraines**: Stress or changes in sleep patterns can exacerbate heada...\n"
     ]
    }
   ],
   "source": [
    "# Test 4: Memory demonstration (follow-up question)\n",
    "print(\"Test 4: Memory Test\")\n",
    "test4 = UserInput(symptoms=\"what should I do if it gets worse?\", age=None, gender=None)\n",
    "result4 = agent.process_symptoms(test4, \"friendly\", thread_id=\"default\")\n",
    "print(\"Response:\", result4[\"response\"][:300] + \"...\")"
   ]
  }
 ],
 "metadata": {
  "kernelspec": {
   "display_name": "Python 3",
   "language": "python",
   "name": "python3"
  },
  "language_info": {
   "codemirror_mode": {
    "name": "ipython",
    "version": 3
   },
   "file_extension": ".py",
   "mimetype": "text/x-python",
   "name": "python",
   "nbconvert_exporter": "python",
   "pygments_lexer": "ipython3",
   "version": "3.12.9"
  }
 },
 "nbformat": 4,
 "nbformat_minor": 5
}
